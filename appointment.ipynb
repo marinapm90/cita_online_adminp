{
 "cells": [
  {
   "cell_type": "code",
   "execution_count": 32,
   "metadata": {},
   "outputs": [
    {
     "name": "stderr",
     "output_type": "stream",
     "text": [
      "/home/marina/.local/lib/python3.6/site-packages/ipykernel_launcher.py:14: DeprecationWarning: use options instead of chrome_options\n",
      "  \n"
     ]
    }
   ],
   "source": [
    "from selenium import webdriver\n",
    "from selenium.webdriver.chrome.options import Options\n",
    "\n",
    "\n",
    "import pandas as pd\n",
    "df = pd.read_csv('./cita.csv')\n",
    "\n",
    "options = Options()\n",
    "options.add_argument(\"--disable-infobars\")\n",
    "options.add_experimental_option(\"prefs\",{\"profile.default_content_setting_values.notifications\":1})\n",
    "\n",
    "\n",
    "chromedriver = \"/home/marina/chromedriver\"\n",
    "driver = webdriver.Chrome(chromedriver,chrome_options=options)\n",
    "driver.get(\"https://sede.administracionespublicas.gob.es/icpplustiem/index\")\n",
    "\n",
    "form_city = driver.find_element_by_xpath(\"//select[@name='form']/option[text()='{}']\".format(df.Options[0])).click()\n",
    "\n",
    "accept_btn = driver.find_element_by_id(\"btnAceptar\")\n",
    "accept_btn.click()\n",
    "\n",
    "form_tramite = driver.find_element_by_xpath(\"//select[@name='tramiteGrupo[0]']/option[text()='{}']\".format(df.Options[1])).click()\n",
    "form_policia = driver.find_element_by_xpath(\"//select[@name='tramiteGrupo[1]']/option[text()='{}']\".format(df.Options[2])).click()\n",
    "\n",
    "accept_btn = driver.find_element_by_id(\"btnAceptar\")\n",
    "accept_btn.click()\n",
    "\n",
    "driver.execute_script(\"window.scrollTo(0, 1080)\") \n",
    "\n",
    "entrar_btn = driver.find_element_by_id(\"btnEntrar\")\n",
    "entrar_btn.click()\n",
    "\n",
    "#driver.quit()\n"
   ]
  }
 ],
 "metadata": {
  "kernelspec": {
   "display_name": "Python 3",
   "language": "python",
   "name": "python3"
  },
  "language_info": {
   "codemirror_mode": {
    "name": "ipython",
    "version": 3
   },
   "file_extension": ".py",
   "mimetype": "text/x-python",
   "name": "python",
   "nbconvert_exporter": "python",
   "pygments_lexer": "ipython3",
   "version": "3.6.9"
  }
 },
 "nbformat": 4,
 "nbformat_minor": 4
}
