{
 "cells": [
  {
   "cell_type": "code",
   "execution_count": 19,
   "metadata": {},
   "outputs": [
    {
     "name": "stderr",
     "output_type": "stream",
     "text": [
      "/home/marina/.local/lib/python3.6/site-packages/ipykernel_launcher.py:12: DeprecationWarning: use options instead of chrome_options\n",
      "  if sys.path[0] == '':\n"
     ]
    }
   ],
   "source": [
    "from selenium import webdriver\n",
    "from selenium.webdriver.chrome.options import Options\n",
    "\n",
    "\n",
    "options = Options()\n",
    "options.add_argument(\"--disable-infobars\")\n",
    "options.add_experimental_option(\"prefs\",{\n",
    "    \"profile.default_content_setting_values.notifications\":1})\n",
    "\n",
    "\n",
    "chromedriver = \"/home/marina/chromedriver\"\n",
    "driver = webdriver.Chrome(chromedriver,chrome_options=options)\n",
    "driver.get(\"https://sede.administracionespublicas.gob.es/icpplustiem/index\")\n",
    "\n",
    "form_city = driver.find_element_by_xpath(\"/html/body/div[1]/div/main/div/div/section/div[2]/div[1]/select/option[53]\")\n",
    "form_city.click()\n",
    "\n",
    "accept_btn = driver.find_element_by_id(\"btnAceptar\")\n",
    "accept_btn.click()\n",
    "\n",
    "form_tramite = driver.find_element_by_xpath(\"/html/body/div[1]/div/main/div/div/section/div[2]/form/div[2]/div[1]/fieldset/div[1]/select//option[2]\")\n",
    "form_tramite.click()\n",
    "\n",
    "form_policia = driver.find_element_by_xpath(\"/html/body/div[1]/div/main/div/div/section/div[2]/form/div[2]/div[1]/fieldset/div[2]/select/option[2]\")\n",
    "form_policia.click()\n",
    "\n",
    "accept_btn = driver.find_element_by_id(\"btnAceptar\")\n",
    "accept_btn.click()\n",
    "\n",
    "driver.execute_script(\"window.scrollTo(0, 1080)\") \n",
    "\n",
    "entrar_btn = driver.find_element_by_id(\"btnEntrar\")\n",
    "entrar_btn.click()\n",
    "\n",
    "#driver.quit()\n"
   ]
  }
 ],
 "metadata": {
  "kernelspec": {
   "display_name": "Python 3",
   "language": "python",
   "name": "python3"
  },
  "language_info": {
   "codemirror_mode": {
    "name": "ipython",
    "version": 3
   },
   "file_extension": ".py",
   "mimetype": "text/x-python",
   "name": "python",
   "nbconvert_exporter": "python",
   "pygments_lexer": "ipython3",
   "version": "3.6.9"
  }
 },
 "nbformat": 4,
 "nbformat_minor": 4
}
